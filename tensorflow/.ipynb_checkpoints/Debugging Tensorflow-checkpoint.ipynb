{
 "cells": [
  {
   "cell_type": "markdown",
   "metadata": {},
   "source": [
    "# Debugging Tensorflow\n",
    "\n",
    "\n",
    "\n",
    "\n",
    "from tensorflow.python import debug as tf_debug\n",
    "\n",
    "\n",
    "sess = tf.Session()\n",
    "sess.run(init)\n",
    "\n",
    "sess = tf_debug.LocalCLIDebugWrapperSession(sess)\n",
    "\n",
    "\n",
    "python3 test.py --debug\n",
    "\n",
    "\n",
    "\n",
    "## How to use IPDB\n",
    "### Interactive Python DeBugger\n",
    "\n",
    "```python\n",
    "import ipdb;\n",
    "ipdp.set_trace()\n",
    "```\n",
    "set_trace() begins a ipdb session at that line number\n",
    "\n",
    "#### ipdb commands:\n",
    "\n",
    "    Command\tShort form\tWhat it does\n",
    "    args\ta\tPrint the argument list of the current function\n",
    "    break\tb\tCreates a breakpoint (requires parameters) in the program execution\n",
    "    continue\tc or cont\tContinues program execution\n",
    "    help\th\tProvides list of commands or help for a specified command\n",
    "    jump\tj\tSet the next line to be executed\n",
    "    list\tl\tPrint the source code around the current line\n",
    "    next\tn\tContinue execution until the next line in the current function is reached or returns\n",
    "    step\ts\tExecute the current line, stopping at first possible occasion\n",
    "    pp\tpp\tPretty-prints the value of the expression\n",
    "    quit or exit\tq\tAborts the program\n",
    "    return\tr\tContinue execution until the current function returns\n",
    "\n"
   ]
  }
 ],
 "metadata": {
  "kernelspec": {
   "display_name": "Python 3",
   "language": "python",
   "name": "python3"
  },
  "language_info": {
   "codemirror_mode": {
    "name": "ipython",
    "version": 3
   },
   "file_extension": ".py",
   "mimetype": "text/x-python",
   "name": "python",
   "nbconvert_exporter": "python",
   "pygments_lexer": "ipython3",
   "version": "3.5.2"
  }
 },
 "nbformat": 4,
 "nbformat_minor": 2
}
