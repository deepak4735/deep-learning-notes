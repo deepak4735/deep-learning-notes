{
 "cells": [
  {
   "cell_type": "markdown",
   "metadata": {},
   "source": [
    "## Concepts from Quora Post\n",
    "\n",
    "Capacity, complexity, generalization error, margin bounds, regret, fat-shattering dimensions, Bayes optimality, PAC-Bayes theory, the hoeffding-chernoff method, symmetrization, vc-dimension, concentration bounds, etc.\n",
    "\n",
    "Bayesian reasoning, MAP, priots on continuous variables\n",
    "\n",
    "Probabolistic inference- message passing\n",
    "Gaussian Miztures\n",
    "Gibbs sampling\n",
    "error bounds\n",
    "\n",
    "LBFGS\n",
    "Maximum entropy\n"
   ]
  }
 ],
 "metadata": {
  "kernelspec": {
   "display_name": "Python 3",
   "language": "python",
   "name": "python3"
  },
  "language_info": {
   "codemirror_mode": {
    "name": "ipython",
    "version": 3
   },
   "file_extension": ".py",
   "mimetype": "text/x-python",
   "name": "python",
   "nbconvert_exporter": "python",
   "pygments_lexer": "ipython3",
   "version": "3.5.2"
  }
 },
 "nbformat": 4,
 "nbformat_minor": 2
}
