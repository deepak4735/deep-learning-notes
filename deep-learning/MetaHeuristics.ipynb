{
 "cells": [
  {
   "cell_type": "markdown",
   "metadata": {},
   "source": [
    "# MetaHeuristics and Learning Algorithms\n",
    "\n",
    "\n",
    "## Function Optimization\n",
    "\n",
    "## Path Finding\n",
    "1. Steering behaviors, Shiffman has a video about this, and an amazing simulation using a flow field to show how each of the aggregation of agents sees the world. \n",
    "\n",
    "1. Influence Maps\n",
    "Used to visualize nodes and features\n",
    "http://aigamedev.com/open/tutorial/influence-map-mechanics/\n",
    "2. SOM (Self Organizing Maps)\n",
    "3. Manifold learning\n",
    "\n",
    "\n",
    "## Optimization Functions\n",
    "1. First Order OPtimization Algorithms- Minimize or maximize a loss function using its gradient values with respect to the parameters. These are named for using the first order derivative- the best exmample is gradient descent. \n",
    "2. Second order optimization algorithms- Uses the second order, also called the Hessian. Advantages of the second order are that they can give you a sense of the curvature- though they are more intensive to compute. Second order optimization will not get stuck aorund paths of slow convergence around saddle points whereas gradient descent will. A performant second order method is L-BFGS (Limited-memory Broyden-Fletcher-Goldfarb-Shanno). It uses an approximation of the Hessian, \n",
    "\n",
    "## Search\n",
    "1. Minimax and its many variations\n",
    "2. Monte Carlo Tree Search\n",
    "\n",
    "## Neuro Evolution/ Evolutionary Computing/ Self-Organizing Algorithms\n",
    "1. CPPN (Compositional Pattern-producig Network)\n",
    "A network whose architecture is guided by genetic algorithms\n",
    "2. NEAT (Neuroevolution of augmenting topologies)\n",
    "A varation of a Genetic Algorithm with many forks, including HyperNeat\n",
    "3. ESP Enforced sub populations, used in concert with GA\n",
    "4. CMA-ES\n",
    "5. https://mobile.aau.at/~welmenre/papers/fehervari-2010-Evolving_Neural_Network_Controllers_for_a_Team_of_Self-organizing_Robots.pdf\n",
    "\n",
    "\n",
    "## Probabalistic Modeling\n",
    "\n",
    "\n",
    "## Signal Processing \n",
    "1. Discrete Cosine Transform \n",
    "\n",
    "## Visualization Techniques\n",
    "1. Using flow fields (vector fields) to show the minds of the agents.   \n",
    "2. Influence Maps\n",
    "3. Maybe SOMs (self-organizing-maps)"
   ]
  }
 ],
 "metadata": {
  "kernelspec": {
   "display_name": "Python 3",
   "language": "python",
   "name": "python3"
  },
  "language_info": {
   "codemirror_mode": {
    "name": "ipython",
    "version": 3
   },
   "file_extension": ".py",
   "mimetype": "text/x-python",
   "name": "python",
   "nbconvert_exporter": "python",
   "pygments_lexer": "ipython3",
   "version": "3.5.2"
  }
 },
 "nbformat": 4,
 "nbformat_minor": 2
}
