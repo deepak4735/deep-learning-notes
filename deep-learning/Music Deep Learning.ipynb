{
 "cells": [
  {
   "cell_type": "markdown",
   "metadata": {},
   "source": [
    "# Ongoing Notes about Music NN\n",
    "  \n",
    "  1. Another overview: http://www.asimovinstitute.org/analyzing-deep-learning-tools-music/\n",
    "  \n",
    "  1. DeepJazz Model\n",
    "  https://github.com/jisungk/deepjazz/blob/master/lstm.py\n",
    "  2. SampleRNN\n",
    "  https://github.com/soroushmehr/sampleRNN_ICLR2017\n",
    "  3. Biazial RNN\n",
    "  https://github.com/hexahedria/biaxial-rnn-music-composition\n",
    "  4. Pytroch RNN sequence generation \n",
    "  https://github.com/warmspringwinds/pytorch-rnn-sequence-generation-classification/blob/master/blog_post.ipynb\n",
    "  5. LSTMetallica\n",
    "  https://github.com/keunwoochoi/LSTMetallica\n",
    "  6. A survey of deep learning for music\n",
    "  https://arxiv.org/pdf/1709.01620.pdf\n",
    "  \n",
    "  \n",
    "## Important Differences in Models\n",
    "\n",
    "1. Models deal with either MIDI input raw audio"
   ]
  }
 ],
 "metadata": {
  "kernelspec": {
   "display_name": "Python 3",
   "language": "python",
   "name": "python3"
  },
  "language_info": {
   "codemirror_mode": {
    "name": "ipython",
    "version": 3
   },
   "file_extension": ".py",
   "mimetype": "text/x-python",
   "name": "python",
   "nbconvert_exporter": "python",
   "pygments_lexer": "ipython3",
   "version": "3.5.2"
  }
 },
 "nbformat": 4,
 "nbformat_minor": 2
}
