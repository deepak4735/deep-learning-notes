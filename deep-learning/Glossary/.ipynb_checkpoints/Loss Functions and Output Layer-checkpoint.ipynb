{
 "cells": [
  {
   "cell_type": "markdown",
   "metadata": {},
   "source": [
    "# Output Layer\n",
    "\n",
    "## Softmax \n",
    "\n",
    "$ S(f_{yi})=\\frac{e^{f_{yi}}}{\\Sigma_j e^{fj}}$\n",
    "\n",
    "Where f is a vector containing the class scores for a single example, this is, the output of the network. Thus $f_k$ is an element for a certain class k in all j classes. \n",
    "\n",
    "The softmax is the normalized exponetial of a value. It's output gives us a percentage confidence for a class in a neural network. In practice, the softmax is used in tandem with the negative log-likelihood. \n",
    "\n",
    "$Loss(y)=-log(y)$\n",
    "\n",
    "This is summed for all classes. \n",
    "\n",
    "## Sigmoid Output\n",
    "\n",
    "A sigmoid output layer is often used in combination with cross-entropy. "
   ]
  },
  {
   "cell_type": "markdown",
   "metadata": {},
   "source": [
    "# Loss Functions\n",
    "\n",
    "## Negative Log-Likelihood\n",
    "\n",
    "$Loss(y)=-log(y)$\n",
    "\n",
    "Here is the formula for negative log likelihood. The negative log likelihood is also known as the multiclass cross-entropy as they are in fact two different interpretations of the same formula. We can also think of the negative-log likelihood as a multiclass cross-entropy. \n",
    "\n",
    "\n",
    "\n",
    "## Cross - Entropy \n",
    "\n",
    "A sigmoid output layer is often used in combination with cross-entropy. The cross-entropy is the negative log likelihood of the Bernoulii Distribution. \n",
    "\n",
    "\n",
    "\n",
    "\n",
    "Symmetric vs asymmetric cost functions\n",
    "\n",
    "### Mean Squared Error\n",
    "\n",
    "### KL Divergence\n",
    "Go back and read this: https://stats.stackexchange.com/questions/185858/use-of-kl-divergence-in-practice a"
   ]
  }
 ],
 "metadata": {
  "kernelspec": {
   "display_name": "Python 3",
   "language": "python",
   "name": "python3"
  },
  "language_info": {
   "codemirror_mode": {
    "name": "ipython",
    "version": 3
   },
   "file_extension": ".py",
   "mimetype": "text/x-python",
   "name": "python",
   "nbconvert_exporter": "python",
   "pygments_lexer": "ipython3",
   "version": "3.5.2"
  }
 },
 "nbformat": 4,
 "nbformat_minor": 2
}
