{
 "cells": [
  {
   "cell_type": "markdown",
   "metadata": {},
   "source": [
    "# To Read\n",
    "\n",
    "# Hierarchical RL\n",
    "https://arxiv.org/pdf/1802.06070.pdf\n",
    "https://blog.openai.com/learning-a-hierarchy/\n",
    "\n",
    "# Interpretable ML\n",
    "https://nips.cc/Conferences/2017/Schedule?showEvent=8744"
   ]
  },
  {
   "cell_type": "markdown",
   "metadata": {},
   "source": [
    "# Advesarial DL\n",
    "\n",
    "1. Check out CleverHans\n",
    "\n",
    "\n",
    "http://approximatelycorrect.com/2018/03/02/defending-adversarial-examples-using-gans/\n",
    "\n",
    "> To test our method, we tried to find a way to attack it. Our idea is to search for pairs of latent codes z,z’ that produce images that are nearby but classified very differently. By solving a min-max problem we obtained several such natural adversarial examples.\n",
    "\n",
    "> The method of adversarial training, proposed by Goodfellow et al., provides a way to convert any attack into a defense. Generate adversarial examples using the attack method, associate them with the correct labels and add to the dataset as new training examples. It was recently shown that adversarial training can be seen as a form of robust optimization (as shown by Madry et al. and Shaham et al. ). Adversarial training seems to be one of the very few methods that withstands attacks, like the recent attack  to ICLR defenses.\n",
    "\n",
    "I do not understand much of this advesarial training right now- and this article doesn't do a great job but I think this is in my top five areas of interest. \n",
    "\n",
    "There is a few incredible examples of advesarial nets in this article: the best is https://arxiv.org/abs/1801.01944 which encodes any phrase into an audio file that is 99.9% similar to a given waveform- thus embedidng audio that can fool Alexa into thinking there has been a purchase request. "
   ]
  },
  {
   "cell_type": "markdown",
   "metadata": {},
   "source": [
    "# Meta Learning Algorithims\n",
    "\n",
    "Learning how to learn, a meta learning algorithm takes a distribution of tasks and produces a quick learner\n",
    "\n",
    "These algorithms seem pretty interesting but are not a priority to understnad. \n",
    "\n",
    "### Reptile\n",
    "https://blog.openai.com/reptile/\n",
    "\n",
    "\n",
    "### MAML\n",
    "http://bair.berkeley.edu/blog/2017/07/18/learning-to-learn/"
   ]
  }
 ],
 "metadata": {
  "kernelspec": {
   "display_name": "Python 3",
   "language": "python",
   "name": "python3"
  },
  "language_info": {
   "codemirror_mode": {
    "name": "ipython",
    "version": 3
   },
   "file_extension": ".py",
   "mimetype": "text/x-python",
   "name": "python",
   "nbconvert_exporter": "python",
   "pygments_lexer": "ipython3",
   "version": "3.5.2"
  }
 },
 "nbformat": 4,
 "nbformat_minor": 2
}
