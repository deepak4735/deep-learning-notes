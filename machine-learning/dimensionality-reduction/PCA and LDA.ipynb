{
 "cells": [
  {
   "cell_type": "markdown",
   "metadata": {},
   "source": [
    "# PCA and LDA\n",
    "\n",
    "PCA: Find the directions/components that maximize variance in the dataset, without considering class labels\n",
    "LDA: Componenets that maximize the between-class seperation\n",
    "\n",
    "You can perform pca before lda to regularize the problem and avoid overfitting. LDA tends to easily overfit data. One way to deal with this is to use pca first. \n",
    "\n",
    "LDA has two composit parts, dimensionality reduction(supervised) and classification. At dimensionality reduction we extract discriminant functions which replace the original explanatory varibales. "
   ]
  }
 ],
 "metadata": {
  "kernelspec": {
   "display_name": "Python 3",
   "language": "python",
   "name": "python3"
  },
  "language_info": {
   "codemirror_mode": {
    "name": "ipython",
    "version": 3
   },
   "file_extension": ".py",
   "mimetype": "text/x-python",
   "name": "python",
   "nbconvert_exporter": "python",
   "pygments_lexer": "ipython3",
   "version": "3.5.2"
  }
 },
 "nbformat": 4,
 "nbformat_minor": 2
}
