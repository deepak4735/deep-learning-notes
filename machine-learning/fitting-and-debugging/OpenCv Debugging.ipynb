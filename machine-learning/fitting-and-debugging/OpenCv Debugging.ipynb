{
 "cells": [
  {
   "cell_type": "markdown",
   "metadata": {},
   "source": [
    "# OpenCV and You\n",
    "\n",
    "The process of getting the countours of the shapes in OpenCV. \n",
    "1. Grey- change ot grey values\n",
    "2. Gaussian Blur- Blur to get rid of high points and reflections from the images\n",
    "3. Find threshold- Find the thresholds that define the shapes of the card\n",
    "4. Warp function - warp function transforms the perspective of the card to a set of images. \n",
    "5. Compare Euclidean distance between the target card and the cards in our deck. Euclidean distance is the pixel values of the cards- now all cards as a result of the transform are 3 channel matrices of 450 x 450 - or whatever we determine in the warp funciton\n",
    "6. \n",
    "\n",
    "\n",
    "\n",
    "\n",
    "\n",
    "### Tips \n",
    "1. Master the imshow and plt.sublplot, plt.title commands so that you can create many little testable parts and try out variations on each little command. Explore the range and parameters of each thing. \n",
    "\n",
    "2. One of the problems is getting it to solve agnostic to the changes. "
   ]
  }
 ],
 "metadata": {
  "kernelspec": {
   "display_name": "Python 3",
   "language": "python",
   "name": "python3"
  },
  "language_info": {
   "codemirror_mode": {
    "name": "ipython",
    "version": 3
   },
   "file_extension": ".py",
   "mimetype": "text/x-python",
   "name": "python",
   "nbconvert_exporter": "python",
   "pygments_lexer": "ipython3",
   "version": "3.5.2"
  }
 },
 "nbformat": 4,
 "nbformat_minor": 2
}
