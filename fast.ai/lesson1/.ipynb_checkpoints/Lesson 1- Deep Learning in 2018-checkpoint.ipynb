{
 "cells": [
  {
   "cell_type": "markdown",
   "metadata": {},
   "source": [
    "# Lesson 1\n",
    "\n",
    "Here are some great resources from lesson 1 for learning about deep learning. \n",
    "\n",
    "An example of image kernels:\n",
    "http://setosa.io/ev/image-kernels/\n",
    "\n",
    "An online interactive book for deep learning:\n",
    "http://neuralnetworksanddeeplearning.com/chap1.html\n",
    "\n",
    "How to find the correct learning rate for a model- \n",
    "from 'Cyclical Learning Rates for Training Neural Nets', a paper from 2015. \n",
    "\n",
    "Take a starting point and take a small step- gradually increase the size of your steps. We go back to our model and we look for our best learning rate- where our step led to the greatest improvement, if we plot the learing rate vs the loss we would get a graph where loss is intially high and it slowly curves down until it grows vertically as the learinng rate is too large. We want to look at the point where the curve is dropping the fastest, not the lowest, but dropping the fastest. Use this rate. \n",
    "\n",
    "After finding the learning rate- then we decide on the number of epochs. \n",
    "\n",
    "Good jupyter notebook trick:\n",
    "1. Tab completions\n",
    "2. shift+tab - gives arguments to the method\n",
    "3. shift+tab twice- gives the arguments, 3 times pops up a seperate window\n",
    "4. Question mark at the front will also launch the documentation\n",
    "5. Two question marks will launch the source code.\n",
    "6. 'h' brings up jupyter notebook command palette\n",
    "\n"
   ]
  }
 ],
 "metadata": {
  "kernelspec": {
   "display_name": "Python 3",
   "language": "python",
   "name": "python3"
  },
  "language_info": {
   "codemirror_mode": {
    "name": "ipython",
    "version": 3
   },
   "file_extension": ".py",
   "mimetype": "text/x-python",
   "name": "python",
   "nbconvert_exporter": "python",
   "pygments_lexer": "ipython3",
   "version": "3.5.2"
  }
 },
 "nbformat": 4,
 "nbformat_minor": 2
}
