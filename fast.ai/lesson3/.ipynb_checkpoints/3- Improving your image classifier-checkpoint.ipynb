{
 "cells": [
  {
   "cell_type": "markdown",
   "metadata": {},
   "source": [
    "# Lesson 3\n",
    "## Improving Your Image Classifier\n",
    "\n",
    "After an introduction of sharing the medium posts and thoughts from those in the class he introduces an end-to-end tutorial on dogs vs cats classifier. \n",
    "\n",
    "1. transform model: provide the model and matrix parameters, mini-batch size, augmentations.\n",
    "2. Give the path for the data, batch size, and model transofrm \n",
    "3. Give the learning rate, with epochs, and cycle length\n",
    "4. Unfreeze layers, freeze batch norm, and train with data augmentations\n",
    "5. Octavio, at Google created a beautiful visualization of the cnn layers, Jeremy introduces a much lower-tech and more user friendly version in Excel.    \n",
    "\n",
    "### VGG\n",
    "\n",
    "Most imagenet models are trained at 224 x 224 or 299 x 299.\n",
    "\n",
    "VGG is one of the first successful deep architectures, it had 19 layers and a fully connected layer that had 4096 activations connected to 4096 activations so you have 4096 x 4096 multiplied by the number of kernels/windows that we have tabulated. So there are like hundreds of millions of weights in these fully connected layers. Resnet34 and Resnext50 do not use fully connected layers. \n",
    "\n",
    "### Softmax\n",
    "\n",
    "Softmax wants to pick a single thing- it does not work well for mutli-class prediction where you would want multiple fields to return with values of 1 for 1 hot encoding. For multi-label classifcation we should use a sigmoid activation. We combine this with a one-hot encoding for each of the idividual labels and the highest values equal our multi-label class.  \n",
    "\n",
    "### Structured Data\n",
    "\n",
    "There is data like audio, images, where all of the pixels, amplitutdes of a waveform, data that are the same thing. Then there are profit and lost statements, infomraiton about a faceboook user, where each column is structurally quite different, tihs is structured data.  It's hard to get published with structured data but it's important for business purposes. A lot of Kaggle competitions are about working with structured data. \n",
    "\n",
    "\n",
    " "
   ]
  }
 ],
 "metadata": {
  "kernelspec": {
   "display_name": "Python 3",
   "language": "python",
   "name": "python3"
  },
  "language_info": {
   "codemirror_mode": {
    "name": "ipython",
    "version": 3
   },
   "file_extension": ".py",
   "mimetype": "text/x-python",
   "name": "python",
   "nbconvert_exporter": "python",
   "pygments_lexer": "ipython3",
   "version": "3.5.2"
  }
 },
 "nbformat": 4,
 "nbformat_minor": 2
}
